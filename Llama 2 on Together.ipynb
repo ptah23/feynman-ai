{
 "cells": [
  {
   "cell_type": "code",
   "execution_count": 1,
   "id": "b7c12670-7069-4457-90be-8a325bc0cbd6",
   "metadata": {},
   "outputs": [
    {
     "name": "stdout",
     "output_type": "stream",
     "text": [
      "Collecting together\n",
      "  Downloading together-0.1.5-py3-none-any.whl (51 kB)\n",
      "\u001b[2K     \u001b[90m━━━━━━━━━━━━━━━━━━━━━━━━━━━━━━━━━━━━━━━━\u001b[0m \u001b[32m51.9/51.9 kB\u001b[0m \u001b[31m9.1 MB/s\u001b[0m eta \u001b[36m0:00:00\u001b[0m\n",
      "\u001b[?25hRequirement already satisfied: requests in /usr/local/lib/python3.9/dist-packages (from together) (2.28.2)\n",
      "Requirement already satisfied: tqdm in /usr/local/lib/python3.9/dist-packages (from together) (4.64.1)\n",
      "Requirement already satisfied: typer in /usr/local/lib/python3.9/dist-packages (from together) (0.4.2)\n",
      "Collecting sseclient-py>=1.7.0\n",
      "  Downloading sseclient_py-1.7.2-py2.py3-none-any.whl (8.4 kB)\n",
      "Requirement already satisfied: charset-normalizer<4,>=2 in /usr/local/lib/python3.9/dist-packages (from requests->together) (2.1.1)\n",
      "Requirement already satisfied: idna<4,>=2.5 in /usr/lib/python3/dist-packages (from requests->together) (2.8)\n",
      "Requirement already satisfied: certifi>=2017.4.17 in /usr/lib/python3/dist-packages (from requests->together) (2019.11.28)\n",
      "Requirement already satisfied: urllib3<1.27,>=1.21.1 in /usr/local/lib/python3.9/dist-packages (from requests->together) (1.26.14)\n",
      "Requirement already satisfied: click<9.0.0,>=7.1.1 in /usr/local/lib/python3.9/dist-packages (from typer->together) (8.1.3)\n",
      "Installing collected packages: sseclient-py, together\n",
      "Successfully installed sseclient-py-1.7.2 together-0.1.5\n",
      "\u001b[33mWARNING: Running pip as the 'root' user can result in broken permissions and conflicting behaviour with the system package manager. It is recommended to use a virtual environment instead: https://pip.pypa.io/warnings/venv\u001b[0m\u001b[33m\n",
      "\u001b[0m"
     ]
    }
   ],
   "source": [
    "!pip install --upgrade together"
   ]
  },
  {
   "cell_type": "code",
   "execution_count": 2,
   "id": "715f863b-bce9-46df-944d-2e5a053dd214",
   "metadata": {},
   "outputs": [
    {
     "name": "stdin",
     "output_type": "stream",
     "text": [
      " ········\n"
     ]
    }
   ],
   "source": [
    "import getpass\n",
    "import together\n",
    "together.api_key = getpass.getpass()"
   ]
  },
  {
   "cell_type": "code",
   "execution_count": 8,
   "id": "53923dd2-a2fd-4e11-86f7-10b77a6c620b",
   "metadata": {},
   "outputs": [
    {
     "name": "stdout",
     "output_type": "stream",
     "text": [
      "71 models available\n",
      "['EleutherAI/gpt-j-6b', 'EleutherAI/gpt-neox-20b', 'EleutherAI/pythia-12b-v0', 'EleutherAI/pythia-1b-v0', 'EleutherAI/pythia-2.8b-v0', 'EleutherAI/pythia-6.9b', 'HuggingFaceH4/starchat-alpha', 'NousResearch/Nous-Hermes-13b', 'NousResearch/Nous-Hermes-Llama2-13b', 'NumbersStation/nsql-6B', 'OpenAssistant/oasst-sft-4-pythia-12b-epoch-3.5', 'OpenAssistant/stablelm-7b-sft-v7-epoch-3', 'bigcode/starcoder', 'databricks/dolly-v2-12b', 'databricks/dolly-v2-3b', 'databricks/dolly-v2-7b', 'google/flan-t5-xl', 'huggyllama/llama-13b', 'huggyllama/llama-30b', 'huggyllama/llama-65b', 'huggyllama/llama-7b', 'lmsys/fastchat-t5-3b-v1.0', 'lmsys/vicuna-13b-v1.3', 'lmsys/vicuna-7b-v1.3', 'prompthero/openjourney', 'runwayml/stable-diffusion-v1-5', 'stabilityai/stable-diffusion-2-1', 'stabilityai/stable-diffusion-xl-base-1.0', 'stabilityai/stablelm-base-alpha-3b', 'stabilityai/stablelm-base-alpha-7b', 'tatsu-lab/alpaca-7b-wdiff', 'timdettmers/guanaco-7b', 'togethercomputer/CodeLlama-13b-Instruct', 'togethercomputer/CodeLlama-13b-Python', 'togethercomputer/CodeLlama-13b', 'togethercomputer/CodeLlama-34b-Python', 'togethercomputer/CodeLlama-34b', 'togethercomputer/CodeLlama-7b-Instruct', 'togethercomputer/CodeLlama-7b-Python', 'togethercomputer/CodeLlama-7b', 'togethercomputer/GPT-JT-6B-v1', 'togethercomputer/GPT-JT-Moderation-6B', 'togethercomputer/GPT-NeoXT-Chat-Base-20B', 'togethercomputer/Koala-13B', 'togethercomputer/LLaMA-2-7B-32K', 'togethercomputer/Llama-2-7B-32K-Instruct', 'togethercomputer/Pythia-Chat-Base-7B-v0.16', 'togethercomputer/RedPajama-INCITE-7B-Base', 'togethercomputer/RedPajama-INCITE-7B-Chat', 'togethercomputer/RedPajama-INCITE-7B-Instruct', 'togethercomputer/RedPajama-INCITE-Base-3B-v1', 'togethercomputer/RedPajama-INCITE-Chat-3B-v1', 'togethercomputer/RedPajama-INCITE-Instruct-3B-v1', 'togethercomputer/codegen2-16B', 'togethercomputer/codegen2-7B', 'togethercomputer/falcon-40b-instruct', 'togethercomputer/falcon-40b', 'togethercomputer/falcon-7b-instruct', 'togethercomputer/falcon-7b', 'togethercomputer/llama-2-13b-chat', 'togethercomputer/llama-2-13b', 'togethercomputer/llama-2-70b-chat', 'togethercomputer/llama-2-70b', 'togethercomputer/llama-2-7b-chat', 'togethercomputer/llama-2-7b', 'togethercomputer/mpt-30b-chat', 'togethercomputer/mpt-30b', 'togethercomputer/mpt-7b-chat', 'togethercomputer/mpt-7b-instruct', 'togethercomputer/mpt-7b', 'togethercomputer/replit-code-v1-3b']\n"
     ]
    }
   ],
   "source": [
    "# see available models\n",
    "model_list = together.Models.list()\n",
    "\n",
    "print(f\"{len(model_list)} models available\")\n",
    "\n",
    "# print the first 10 models on the menu\n",
    "model_names = [model_dict['name'] for model_dict in model_list]\n",
    "print(model_names)"
   ]
  },
  {
   "cell_type": "code",
   "execution_count": 15,
   "id": "43373034-c7ad-4108-b8d2-9d5c59051f28",
   "metadata": {},
   "outputs": [
    {
     "data": {
      "text/plain": [
       "{'success': True,\n",
       " 'value': 'a4391709dae73886c5401c967c525509333fcd472c8f670153c688f1b60f789f'}"
      ]
     },
     "execution_count": 15,
     "metadata": {},
     "output_type": "execute_result"
    }
   ],
   "source": [
    "together.Models.start('togethercomputer/llama-2-70b-chat')"
   ]
  },
  {
   "cell_type": "code",
   "execution_count": 16,
   "id": "91002f7a-502f-4647-9112-530071112670",
   "metadata": {},
   "outputs": [],
   "source": [
    "prompt= '''\n",
    "Read the following concept and a student's in-your-own-words description and evaluate the student's\n",
    "description by the following criteria: \n",
    "- coverage of the core aspects of the concept\n",
    "- clarity and simplicity of the explanation\n",
    "- Identify gaps in understanding and areas that need improvement\n",
    "\n",
    "Provide a score on how well the concept was explained.\n",
    "\n",
    "Concept: `Gradient Descent is an iterative optimization process that searches for an objective function’s\n",
    " optimum value (Minimum/Maximum). It is one of the most used methods for changing a model’s parameters in\n",
    " order to reduce a cost function in machine learning projects.  \n",
    "The primary goal of gradient descent is to identify the model parameters that provide the maximum accuracy\n",
    " on both training and test datasets. In gradient descent, the gradient is a vector pointing in the general\n",
    " direction of the function’s steepest rise at a particular point. The algorithm might gradually drop towards\n",
    " lower values of the function by moving in the opposite direction of the gradient, until reaching the minimum\n",
    " of the function.`\n",
    "\n",
    "Student: `Gradient descent is an optimization algorithm that is commonly used to minimize cost functions in\n",
    " machine learning models. It works by iteratively adjusting the model parameters, like the weights and biases\n",
    " in a neural network, in the direction that reduces the cost function.\n",
    "\n",
    "The goal is to converge on the optimal set of parameters that minimize the cost, like the error between\n",
    " predictions and true labels. Gradient descent starts with random initial parameters, then calculates the gradient\n",
    " of the cost function. The gradient tells you which direction to update the parameters to reduce the cost.\n",
    "The parameters are updated by a small amount in the negative gradient direction. This process is repeated until\n",
    "the algorithm converges on a minimum cost.\n",
    "\n",
    "So in summary, gradient descent iteratively fine-tunes the model parameters by calculating the gradient and moving\n",
    " in the direction that reduces the cost function. By repeating this process, it can find the optimal parameters that\n",
    " minimize the cost and maximize model accuracy.`\n",
    "Evaluation:\n",
    "'''"
   ]
  },
  {
   "cell_type": "code",
   "execution_count": 19,
   "id": "9a8c8329-edb7-42e7-9aa4-272d2deeade3",
   "metadata": {},
   "outputs": [
    {
     "name": "stdout",
     "output_type": "stream",
     "text": [
      "\n",
      "Read the following concept and a student's in-your-own-words description and evaluate the student's\n",
      "description by the following criteria: \n",
      "- coverage of the core aspects of the concept\n",
      "- clarity and simplicity of the explanation\n",
      "- Identify gaps in understanding and areas that need improvement\n",
      "\n",
      "Provide a score on how well the concept was explained.\n",
      "\n",
      "Concept: `Gradient Descent is an iterative optimization process that searches for an objective function’s\n",
      " optimum value (Minimum/Maximum). It is one of the most used methods for changing a model’s parameters in\n",
      " order to reduce a cost function in machine learning projects.  \n",
      "The primary goal of gradient descent is to identify the model parameters that provide the maximum accuracy\n",
      " on both training and test datasets. In gradient descent, the gradient is a vector pointing in the general\n",
      " direction of the function’s steepest rise at a particular point. The algorithm might gradually drop towards\n",
      " lower values of the function by moving in the opposite direction of the gradient, until reaching the minimum\n",
      " of the function.`\n",
      "\n",
      "Student: `Gradient descent is an optimization algorithm that is commonly used to minimize cost functions in\n",
      " machine learning models. It works by iteratively adjusting the model parameters, like the weights and biases\n",
      " in a neural network, in the direction that reduces the cost function.\n",
      "\n",
      "The goal is to converge on the optimal set of parameters that minimize the cost, like the error between\n",
      " predictions and true labels. Gradient descent starts with random initial parameters, then calculates the gradient\n",
      " of the cost function. The gradient tells you which direction to update the parameters to reduce the cost.\n",
      "The parameters are updated by a small amount in the negative gradient direction. This process is repeated until\n",
      "the algorithm converges on a minimum cost.\n",
      "\n",
      "So in summary, gradient descent iteratively fine-tunes the model parameters by calculating the gradient and moving\n",
      " in the direction that reduces the cost function. By repeating this process, it can find the optimal parameters that\n",
      " minimize the cost and maximize model accuracy.`\n",
      "Evaluation:\n",
      "Coverage of the core aspects of the concept: 8/10\n",
      "The student's explanation covers the main points of gradient descent, including its purpose, how it works, and the\n",
      "direction of the gradient. However, they don't mention the difference between maximum and minimum\n",
      "values or the importance of identifying the optimal parameters for model accuracy.\n",
      "\n",
      "Clarity and simplicity of the explanation: 7/10\n",
      "The student's explanation is clear and easy to understand, but they use some technical terms without providing\n",
      "definitions, such as \"cost function\" and \"true labels.\" They also use phrases like \"fine-tune\" and \"minimize the cost,\"\n",
      "which may be unclear for someone unfamiliar with the concept.\n",
      "\n",
      "Gaps in understanding and areas that need improvement:\n",
      "The student seems to have a good grasp of how gradient descent works, but they could improve their explanation by\n",
      "including more details about the importance of finding the optimal parameters for model accuracy and the\n",
      "difference between maximum and minimum values. Additionally, they could clarify the technical terms they use and\n",
      "provide definitions for those who may not be familiar with them.\n",
      "\n",
      "Score: 35/50\n",
      "\n",
      "Note: The score is based on a subjective evaluation of the student's explanation and may vary depending on individual interpretations of the criteria.\n"
     ]
    }
   ],
   "source": [
    "output = together.Complete.create(\n",
    "  prompt = prompt, \n",
    "  model = \"togethercomputer/llama-2-70b-chat\", \n",
    "  max_tokens = 1000,\n",
    "  temperature = 0.6,\n",
    "  top_k = 90,\n",
    "  top_p = 0.8,\n",
    "  repetition_penalty = 1.1,\n",
    "  stop = ['</s>']\n",
    ")\n",
    "\n",
    "# print generated text\n",
    "print(output['prompt'][0]+output['output']['choices'][0]['text'])"
   ]
  },
  {
   "cell_type": "code",
   "execution_count": null,
   "id": "b040d212-04e0-423e-95bd-17395f8f6a82",
   "metadata": {},
   "outputs": [],
   "source": []
  }
 ],
 "metadata": {
  "kernelspec": {
   "display_name": "Python 3 (ipykernel)",
   "language": "python",
   "name": "python3"
  },
  "language_info": {
   "codemirror_mode": {
    "name": "ipython",
    "version": 3
   },
   "file_extension": ".py",
   "mimetype": "text/x-python",
   "name": "python",
   "nbconvert_exporter": "python",
   "pygments_lexer": "ipython3",
   "version": "3.9.16"
  }
 },
 "nbformat": 4,
 "nbformat_minor": 5
}
